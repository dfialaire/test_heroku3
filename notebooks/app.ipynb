{
 "cells": [
  {
   "cell_type": "code",
   "execution_count": null,
   "id": "40f6f33b",
   "metadata": {},
   "outputs": [],
   "source": [
    "from ipywidgets import *\n",
    "from IPython.display import IFrame, YouTubeVideo\n",
    "from IPython.core.display import display\n",
    "import subprocess, sys\n",
    "import webbrowser\n",
    "from ipywidgets import HTML\n",
    "import base64\n",
    "import csv ## https://docs.python.org/fr/3.6/library/csv.html \n",
    "import os ## Pour utiliser la methode ci-dessous Get Current Worked Directory pour lire la page Web crée dans le dossier courant.\n",
    "Lieu = os.getcwd()  ## methode Get Current Worked Directory pour lire la page Web crée dans le dossier courant.\n",
    "\n",
    "import os\n",
    "\n",
    "import subprocess, sys\n",
    "\n",
    "from time import gmtime, strftime\n",
    "from datetime import datetime\n",
    "from pytz import timezone\n",
    "\n",
    "from reportlab.lib.enums import TA_JUSTIFY\n",
    "from reportlab.lib.pagesizes import letter\n",
    "from reportlab.platypus import SimpleDocTemplate, Paragraph, Spacer, Image\n",
    "from reportlab.lib.styles import getSampleStyleSheet, ParagraphStyle"
   ]
  },
  {
   "cell_type": "code",
   "execution_count": 1,
   "id": "9cf366c6",
   "metadata": {
    "scrolled": true
   },
   "outputs": [
    {
     "name": "stdout",
     "output_type": "stream",
     "text": [
      "Hello word\n"
     ]
    }
   ],
   "source": [
    "print(\"Hello word\")"
   ]
  },
  {
   "cell_type": "code",
   "execution_count": null,
   "id": "163d9c85",
   "metadata": {},
   "outputs": [],
   "source": [
    "print(\"Super !\")"
   ]
  },
  {
   "cell_type": "code",
   "execution_count": null,
   "id": "a984ff91",
   "metadata": {},
   "outputs": [],
   "source": [
    "print(\"Génial !\")"
   ]
  }
 ],
 "metadata": {
  "kernelspec": {
   "display_name": "Python 3",
   "language": "python",
   "name": "python3"
  },
  "language_info": {
   "codemirror_mode": {
    "name": "ipython",
    "version": 3
   },
   "file_extension": ".py",
   "mimetype": "text/x-python",
   "name": "python",
   "nbconvert_exporter": "python",
   "pygments_lexer": "ipython3",
   "version": "3.8.8"
  }
 },
 "nbformat": 4,
 "nbformat_minor": 5
}
